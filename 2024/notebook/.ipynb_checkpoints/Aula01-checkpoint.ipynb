{
 "cells": [
  {
   "cell_type": "code",
   "execution_count": 7,
   "id": "3088d321-7758-4401-89df-b3fd7b12d2d7",
   "metadata": {},
   "outputs": [
    {
     "name": "stdout",
     "output_type": "stream",
     "text": [
      "<class 'int'>\n",
      "O valor de a é igual a 1 (funcionou após transformar em uma string)\n"
     ]
    }
   ],
   "source": [
    "#numeros inteiros - int - integer\n",
    "a=1\n",
    "#print na tela\n",
    "print(type(a))\n",
    "\n",
    "print('O valor de a é igual a ' + str(a) + ' (funcionou após transformar em uma string)')"
   ]
  },
  {
   "cell_type": "code",
   "execution_count": 9,
   "id": "effbab72-8288-462e-bb0f-cb9a57156c54",
   "metadata": {},
   "outputs": [
    {
     "name": "stdout",
     "output_type": "stream",
     "text": [
      "O valor de a é igual b 3.1416 (funcionou após transformar em uma string)\n",
      "<class 'float'>\n"
     ]
    }
   ],
   "source": [
    "#números reais - float - double-double precision\n",
    "b=3.1416\n",
    "print('O valor de a é igual b ' + str(b) + ' (funcionou após transformar em uma string)')\n",
    "print(type(b))"
   ]
  },
  {
   "cell_type": "code",
   "execution_count": 13,
   "id": "ddb65aff-c47f-416d-ae5c-79467cac1515",
   "metadata": {},
   "outputs": [
    {
     "name": "stdout",
     "output_type": "stream",
     "text": [
      "Bianca está fazendo bagunça com ajuda de Bruno e Ana Júlia\n",
      "<class 'str'>\n"
     ]
    }
   ],
   "source": [
    "# texto - char - string\n",
    "c='Bianca está fazendo bagunça '\n",
    "d= 'com ajuda de '\n",
    "e='Bruno e Ana Júlia'\n",
    "print(c+d+e)\n",
    "print(type(c))"
   ]
  },
  {
   "cell_type": "code",
   "execution_count": 25,
   "id": "416d39ea-d582-42ae-b754-fba45a14343d",
   "metadata": {},
   "outputs": [
    {
     "name": "stdout",
     "output_type": "stream",
     "text": [
      "['Marcos', 'Maria Eduarda', 'Djesser', 'Rafael']\n",
      "<class 'list'>\n",
      "O tamanho da lista é 4\n",
      "[1, 2, 3, 10, 17]\n",
      "[10, 10, 10, 6.5, 'José', 'Marcos', 'Rafael', 'Bruno']\n"
     ]
    }
   ],
   "source": [
    "# Lista de texto\n",
    "namesList = ['Marcos','Maria Eduarda','Djesser', 'Rafael']\n",
    "print(namesList)\n",
    "print(type(namesList))\n",
    "\n",
    "#comando para identificar o tamanho da lista \n",
    "print('O tamanho da lista é '+ str(len(namesList)))\n",
    "\n",
    "#Agora, uma lista de números\n",
    "numList=[1,2,3,10,17]\n",
    "print(numList)\n",
    "\n",
    "#Agora uma lista de números e strings\n",
    "numNameList=[10,10,10,6.5,'José', 'Marcos', 'Rafael', 'Bruno']\n",
    "print(numNameList)\n"
   ]
  },
  {
   "cell_type": "code",
   "execution_count": 32,
   "id": "921fa9d7-4e6d-4a89-b483-9985e7e0ddb2",
   "metadata": {},
   "outputs": [
    {
     "name": "stdout",
     "output_type": "stream",
     "text": [
      "Marcos\n",
      "<class 'str'>\n"
     ]
    }
   ],
   "source": [
    "#Acessando os valores da lista\n",
    "\n",
    "#Acessando o primeiro valor da lisra namelist\n",
    "print(namesList[0])\n",
    "\n",
    "#Determina o tipo da variável na posição 0 da lista\n",
    "print(type(namesList[0]))\n"
   ]
  },
  {
   "cell_type": "code",
   "execution_count": 65,
   "id": "ef52264f-0e00-461d-a8ad-047182210cff",
   "metadata": {},
   "outputs": [
    {
     "name": "stdout",
     "output_type": "stream",
     "text": [
      "<class 'dict'>\n",
      "Larissa\n",
      "5.25\n",
      "O índice de matriz é 0 e a altura de Marcos é 1.95\n",
      "O índice de matriz é 1 e a altura de Larissa é 1.67\n",
      "O índice de matriz é 2 e a altura de Daphne é 1.63\n",
      "A soma das alturas é = 5.25\n"
     ]
    }
   ],
   "source": [
    "# Dicionários\n",
    "\n",
    "namesDict = {\n",
    "    'name':['Marcos', 'Larissa', 'Daphne'],\n",
    "    'Altura': [1.95,1.67, 1.63]\n",
    "}\n",
    "print(type(namesDict))\n",
    "\n",
    "# Extraindo os valores das variáveis Altura dentro do dicionário namesDict\n",
    "namesDict['Altura']\n",
    "\n",
    "# Extraindo o segundo valor da variável Altura dentro do dicionário namesDict\n",
    "print(namesDict['name'][1])\n",
    "\n",
    "# Soma das alturas do dicionário namesDict\n",
    "\n",
    "soma=sum(namesDict['Altura'])\n",
    "print(soma)\n",
    "\n",
    "#Ou pode fazer\n",
    "somaDasAlturas=0\n",
    "for ii, alturas in enumerate(namesDict['Altura']):\n",
    "    print('O índice de matriz é '+str(ii)+' e a altura de '+str(namesDict['name'][ii])+ ' é ' +str(alturas))\n",
    "    somaDasAlturas=somaDasAlturas + alturas\n",
    "print('A soma das alturas é = '+str(somaDasAlturas))"
   ]
  },
  {
   "cell_type": "code",
   "execution_count": null,
   "id": "f16a9440-dc7a-4a54-86a1-f2d6b10f284f",
   "metadata": {},
   "outputs": [],
   "source": []
  }
 ],
 "metadata": {
  "kernelspec": {
   "display_name": "Python 3 (ipykernel)",
   "language": "python",
   "name": "python3"
  },
  "language_info": {
   "codemirror_mode": {
    "name": "ipython",
    "version": 3
   },
   "file_extension": ".py",
   "mimetype": "text/x-python",
   "name": "python",
   "nbconvert_exporter": "python",
   "pygments_lexer": "ipython3",
   "version": "3.11.8"
  }
 },
 "nbformat": 4,
 "nbformat_minor": 5
}
