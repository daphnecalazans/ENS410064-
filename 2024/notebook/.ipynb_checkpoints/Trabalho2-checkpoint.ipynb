{
 "cells": [
  {
   "cell_type": "markdown",
   "id": "d75088c2-ff3a-4635-bf61-6f870f3ba97c",
   "metadata": {},
   "source": [
    "# Trabalho 2\n",
    "\n",
    "Análise de Dados Espaciais - MapBiomas Uso e Cobertura do Solo"
   ]
  },
  {
   "cell_type": "code",
   "execution_count": 1,
   "id": "85224e6f-7be1-4fd9-9775-58221b65a4b7",
   "metadata": {},
   "outputs": [
    {
     "name": "stdout",
     "output_type": "stream",
     "text": [
      "C:\\Users\\DaphneCalazans\\OneDrive - altageotecnia.com\\Área de Trabalho\\Daphne\\Pessoal\\Mestrado\\Python_EA\\ENS410064-\\2024\\notebook\n",
      "['1728675725931.csv', 'BR_Pais_2022', 'BR_Pais_2022.zip', 'BR_RG_Intermediarias_2022', 'BR_RG_Intermediarias_2022.zip', 'EZ_AERMOD_daphne.calazans_2024-11-14', 'EZ_AERMOD_daphne.calazans_2024-11-14.zip', 'FINNv2.5.1_modvrs_nrt_GEOSCHEM_20240708.txt', 'FINNv2.5.1_modvrs_nrt_GEOSCHEM_20240708.txt.gz', 'MERRA2_HAQAST_CNN_L4_V1.20240505.nc4', 'MERRA2_HAQAST_CNN_L4_V1.20240506.nc4', 'metar_SBFL_2022.csv', 'metar_SBFL_2023.csv', 'metar_SBFL_2024.csv', 'SC_subdistritos_CD2022', 'SC_subdistritos_CD2022.zip']\n"
     ]
    }
   ],
   "source": [
    "# Caminhios para a pasta de dados\n",
    "import os\n",
    "\n",
    "#Pasta atual\n",
    "pastaAtual = os.getcwd()\n",
    "print(pastaAtual)\n",
    "#Pasta dados\n",
    "pastaDados=r'../dados'\n",
    "\n",
    "#Lisrando arquivos\n",
    "listaDados=os.listdir(pastaDados)\n",
    "print(listaDados)\n",
    "\n",
    "#Selecionando os arquivos do MapBiomas\n",
    "prefixed = [filename for filename in os.listdir(pastaDados) if filename.startswith(\"basil_\")]\n",
    "print(prefixed)"
   ]
  },
  {
   "cell_type": "code",
   "execution_count": null,
   "id": "d870e05c-16c2-4a6e-8a0e-897cdb062b82",
   "metadata": {},
   "outputs": [],
   "source": []
  }
 ],
 "metadata": {
  "kernelspec": {
   "display_name": "Python 3 (ipykernel)",
   "language": "python",
   "name": "python3"
  },
  "language_info": {
   "codemirror_mode": {
    "name": "ipython",
    "version": 3
   },
   "file_extension": ".py",
   "mimetype": "text/x-python",
   "name": "python",
   "nbconvert_exporter": "python",
   "pygments_lexer": "ipython3",
   "version": "3.11.8"
  }
 },
 "nbformat": 4,
 "nbformat_minor": 5
}
