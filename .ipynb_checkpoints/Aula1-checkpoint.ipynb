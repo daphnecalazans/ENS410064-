{
 "cells": [
  {
   "cell_type": "markdown",
   "id": "7a41cd79-c921-46c3-a6cc-018341258b3a",
   "metadata": {},
   "source": [
    "# Aula 1 - Python em Aplicações Ambientais"
   ]
  },
  {
   "cell_type": "markdown",
   "id": "b651ae40-d494-4c72-980f-c8b680dda9ab",
   "metadata": {},
   "source": [
    "Iremos agora instalar a biblioteca que usaremos na próxima aula para importar e analisar nossa série temporal: pandas.\n",
    "Para instalar pacotes aqui, no Jupyter, vamos usar a notação \"!\", sem aspas, e o comando de instalação."
   ]
  },
  {
   "cell_type": "code",
   "execution_count": 3,
   "id": "00971ff4-27c9-440f-956c-9d5559723772",
   "metadata": {},
   "outputs": [
    {
     "name": "stdout",
     "output_type": "stream",
     "text": [
      "Requirement already satisfied: pandas in c:\\users\\daphnecalazans\\onedrive - altageotecnia.com\\área de trabalho\\daphne\\pessoal\\mestrado\\python_ea\\ens410064-\\pyenv\\lib\\site-packages (2.2.3)\n",
      "Requirement already satisfied: numpy>=1.26.0 in c:\\users\\daphnecalazans\\onedrive - altageotecnia.com\\área de trabalho\\daphne\\pessoal\\mestrado\\python_ea\\ens410064-\\pyenv\\lib\\site-packages (from pandas) (2.1.1)\n",
      "Requirement already satisfied: python-dateutil>=2.8.2 in c:\\users\\daphnecalazans\\onedrive - altageotecnia.com\\área de trabalho\\daphne\\pessoal\\mestrado\\python_ea\\ens410064-\\pyenv\\lib\\site-packages (from pandas) (2.9.0.post0)\n",
      "Requirement already satisfied: pytz>=2020.1 in c:\\users\\daphnecalazans\\onedrive - altageotecnia.com\\área de trabalho\\daphne\\pessoal\\mestrado\\python_ea\\ens410064-\\pyenv\\lib\\site-packages (from pandas) (2024.2)\n",
      "Requirement already satisfied: tzdata>=2022.7 in c:\\users\\daphnecalazans\\onedrive - altageotecnia.com\\área de trabalho\\daphne\\pessoal\\mestrado\\python_ea\\ens410064-\\pyenv\\lib\\site-packages (from pandas) (2024.2)\n",
      "Requirement already satisfied: six>=1.5 in c:\\users\\daphnecalazans\\onedrive - altageotecnia.com\\área de trabalho\\daphne\\pessoal\\mestrado\\python_ea\\ens410064-\\pyenv\\lib\\site-packages (from python-dateutil>=2.8.2->pandas) (1.16.0)\n"
     ]
    }
   ],
   "source": [
    "!pip install pandas"
   ]
  },
  {
   "cell_type": "code",
   "execution_count": 4,
   "id": "755ffc72-2c97-4e7e-9ee1-be98adcbb7b4",
   "metadata": {},
   "outputs": [],
   "source": [
    "# Importando o pandas\n",
    "import pandas as pd"
   ]
  },
  {
   "cell_type": "code",
   "execution_count": 17,
   "id": "405cd2dd-b210-4461-bc70-387b6e096e20",
   "metadata": {},
   "outputs": [
    {
     "data": {
      "text/html": [
       "<div>\n",
       "<style scoped>\n",
       "    .dataframe tbody tr th:only-of-type {\n",
       "        vertical-align: middle;\n",
       "    }\n",
       "\n",
       "    .dataframe tbody tr th {\n",
       "        vertical-align: top;\n",
       "    }\n",
       "\n",
       "    .dataframe thead th {\n",
       "        text-align: right;\n",
       "    }\n",
       "</style>\n",
       "<table border=\"1\" class=\"dataframe\">\n",
       "  <thead>\n",
       "    <tr style=\"text-align: right;\">\n",
       "      <th></th>\n",
       "      <th>Data Medicao</th>\n",
       "      <th>Hora Medicao</th>\n",
       "      <th>PRECIPITACAO TOTAL, HORARIO(mm)</th>\n",
       "    </tr>\n",
       "  </thead>\n",
       "  <tbody>\n",
       "    <tr>\n",
       "      <th>0</th>\n",
       "      <td>21/01/2003</td>\n",
       "      <td>0</td>\n",
       "      <td>NaN</td>\n",
       "    </tr>\n",
       "    <tr>\n",
       "      <th>1</th>\n",
       "      <td>21/01/2003</td>\n",
       "      <td>100</td>\n",
       "      <td>NaN</td>\n",
       "    </tr>\n",
       "    <tr>\n",
       "      <th>2</th>\n",
       "      <td>21/01/2003</td>\n",
       "      <td>200</td>\n",
       "      <td>NaN</td>\n",
       "    </tr>\n",
       "    <tr>\n",
       "      <th>3</th>\n",
       "      <td>21/01/2003</td>\n",
       "      <td>300</td>\n",
       "      <td>NaN</td>\n",
       "    </tr>\n",
       "    <tr>\n",
       "      <th>4</th>\n",
       "      <td>21/01/2003</td>\n",
       "      <td>400</td>\n",
       "      <td>NaN</td>\n",
       "    </tr>\n",
       "    <tr>\n",
       "      <th>...</th>\n",
       "      <td>...</td>\n",
       "      <td>...</td>\n",
       "      <td>...</td>\n",
       "    </tr>\n",
       "    <tr>\n",
       "      <th>192379</th>\n",
       "      <td>31/12/2024</td>\n",
       "      <td>1900</td>\n",
       "      <td>NaN</td>\n",
       "    </tr>\n",
       "    <tr>\n",
       "      <th>192380</th>\n",
       "      <td>31/12/2024</td>\n",
       "      <td>2000</td>\n",
       "      <td>NaN</td>\n",
       "    </tr>\n",
       "    <tr>\n",
       "      <th>192381</th>\n",
       "      <td>31/12/2024</td>\n",
       "      <td>2100</td>\n",
       "      <td>NaN</td>\n",
       "    </tr>\n",
       "    <tr>\n",
       "      <th>192382</th>\n",
       "      <td>31/12/2024</td>\n",
       "      <td>2200</td>\n",
       "      <td>NaN</td>\n",
       "    </tr>\n",
       "    <tr>\n",
       "      <th>192383</th>\n",
       "      <td>31/12/2024</td>\n",
       "      <td>2300</td>\n",
       "      <td>NaN</td>\n",
       "    </tr>\n",
       "  </tbody>\n",
       "</table>\n",
       "<p>192384 rows × 3 columns</p>\n",
       "</div>"
      ],
      "text/plain": [
       "       Data Medicao  Hora Medicao PRECIPITACAO TOTAL, HORARIO(mm)\n",
       "0        21/01/2003             0                             NaN\n",
       "1        21/01/2003           100                             NaN\n",
       "2        21/01/2003           200                             NaN\n",
       "3        21/01/2003           300                             NaN\n",
       "4        21/01/2003           400                             NaN\n",
       "...             ...           ...                             ...\n",
       "192379   31/12/2024          1900                             NaN\n",
       "192380   31/12/2024          2000                             NaN\n",
       "192381   31/12/2024          2100                             NaN\n",
       "192382   31/12/2024          2200                             NaN\n",
       "192383   31/12/2024          2300                             NaN\n",
       "\n",
       "[192384 rows x 3 columns]"
      ]
     },
     "execution_count": 17,
     "metadata": {},
     "output_type": "execute_result"
    }
   ],
   "source": [
    "#Ler o arquivo de base/exemplo\n",
    "df = pd.read_csv('dados/chuva_A806.csv', sep=';')\n",
    "df"
   ]
  },
  {
   "cell_type": "code",
   "execution_count": 19,
   "id": "459d9915-5a16-41eb-a293-a7f2ec29006a",
   "metadata": {},
   "outputs": [
    {
     "data": {
      "text/html": [
       "<div>\n",
       "<style scoped>\n",
       "    .dataframe tbody tr th:only-of-type {\n",
       "        vertical-align: middle;\n",
       "    }\n",
       "\n",
       "    .dataframe tbody tr th {\n",
       "        vertical-align: top;\n",
       "    }\n",
       "\n",
       "    .dataframe thead th {\n",
       "        text-align: right;\n",
       "    }\n",
       "</style>\n",
       "<table border=\"1\" class=\"dataframe\">\n",
       "  <thead>\n",
       "    <tr style=\"text-align: right;\">\n",
       "      <th></th>\n",
       "      <th>Hora Medicao</th>\n",
       "    </tr>\n",
       "  </thead>\n",
       "  <tbody>\n",
       "    <tr>\n",
       "      <th>count</th>\n",
       "      <td>192384.000000</td>\n",
       "    </tr>\n",
       "    <tr>\n",
       "      <th>mean</th>\n",
       "      <td>1150.000000</td>\n",
       "    </tr>\n",
       "    <tr>\n",
       "      <th>std</th>\n",
       "      <td>692.220454</td>\n",
       "    </tr>\n",
       "    <tr>\n",
       "      <th>min</th>\n",
       "      <td>0.000000</td>\n",
       "    </tr>\n",
       "    <tr>\n",
       "      <th>25%</th>\n",
       "      <td>575.000000</td>\n",
       "    </tr>\n",
       "    <tr>\n",
       "      <th>50%</th>\n",
       "      <td>1150.000000</td>\n",
       "    </tr>\n",
       "    <tr>\n",
       "      <th>75%</th>\n",
       "      <td>1725.000000</td>\n",
       "    </tr>\n",
       "    <tr>\n",
       "      <th>max</th>\n",
       "      <td>2300.000000</td>\n",
       "    </tr>\n",
       "  </tbody>\n",
       "</table>\n",
       "</div>"
      ],
      "text/plain": [
       "        Hora Medicao\n",
       "count  192384.000000\n",
       "mean     1150.000000\n",
       "std       692.220454\n",
       "min         0.000000\n",
       "25%       575.000000\n",
       "50%      1150.000000\n",
       "75%      1725.000000\n",
       "max      2300.000000"
      ]
     },
     "execution_count": 19,
     "metadata": {},
     "output_type": "execute_result"
    }
   ],
   "source": [
    "df.describe()"
   ]
  },
  {
   "cell_type": "code",
   "execution_count": 20,
   "id": "311956d7-35cd-4ee7-9e82-463a2e115f15",
   "metadata": {},
   "outputs": [
    {
     "name": "stdout",
     "output_type": "stream",
     "text": [
      "Collecting matplotlib\n",
      "  Downloading matplotlib-3.9.2-cp312-cp312-win_amd64.whl.metadata (11 kB)\n",
      "Collecting contourpy>=1.0.1 (from matplotlib)\n",
      "  Downloading contourpy-1.3.0-cp312-cp312-win_amd64.whl.metadata (5.4 kB)\n",
      "Collecting cycler>=0.10 (from matplotlib)\n",
      "  Downloading cycler-0.12.1-py3-none-any.whl.metadata (3.8 kB)\n",
      "Collecting fonttools>=4.22.0 (from matplotlib)\n",
      "  Downloading fonttools-4.54.1-cp312-cp312-win_amd64.whl.metadata (167 kB)\n",
      "Collecting kiwisolver>=1.3.1 (from matplotlib)\n",
      "  Downloading kiwisolver-1.4.7-cp312-cp312-win_amd64.whl.metadata (6.4 kB)\n",
      "Requirement already satisfied: numpy>=1.23 in c:\\users\\daphnecalazans\\onedrive - altageotecnia.com\\área de trabalho\\daphne\\pessoal\\mestrado\\python_ea\\ens410064-\\pyenv\\lib\\site-packages (from matplotlib) (2.1.1)\n",
      "Requirement already satisfied: packaging>=20.0 in c:\\users\\daphnecalazans\\onedrive - altageotecnia.com\\área de trabalho\\daphne\\pessoal\\mestrado\\python_ea\\ens410064-\\pyenv\\lib\\site-packages (from matplotlib) (24.1)\n",
      "Collecting pillow>=8 (from matplotlib)\n",
      "  Downloading pillow-10.4.0-cp312-cp312-win_amd64.whl.metadata (9.3 kB)\n",
      "Collecting pyparsing>=2.3.1 (from matplotlib)\n",
      "  Downloading pyparsing-3.1.4-py3-none-any.whl.metadata (5.1 kB)\n",
      "Requirement already satisfied: python-dateutil>=2.7 in c:\\users\\daphnecalazans\\onedrive - altageotecnia.com\\área de trabalho\\daphne\\pessoal\\mestrado\\python_ea\\ens410064-\\pyenv\\lib\\site-packages (from matplotlib) (2.9.0.post0)\n",
      "Requirement already satisfied: six>=1.5 in c:\\users\\daphnecalazans\\onedrive - altageotecnia.com\\área de trabalho\\daphne\\pessoal\\mestrado\\python_ea\\ens410064-\\pyenv\\lib\\site-packages (from python-dateutil>=2.7->matplotlib) (1.16.0)\n",
      "Downloading matplotlib-3.9.2-cp312-cp312-win_amd64.whl (7.8 MB)\n",
      "   ---------------------------------------- 0.0/7.8 MB ? eta -:--:--\n",
      "   ------ --------------------------------- 1.3/7.8 MB 6.7 MB/s eta 0:00:01\n",
      "   -------------- ------------------------- 2.9/7.8 MB 7.3 MB/s eta 0:00:01\n",
      "   --------------------- ------------------ 4.2/7.8 MB 6.8 MB/s eta 0:00:01\n",
      "   ---------------------------- ----------- 5.5/7.8 MB 7.1 MB/s eta 0:00:01\n",
      "   ------------------------------------ --- 7.1/7.8 MB 7.0 MB/s eta 0:00:01\n",
      "   ---------------------------------------- 7.8/7.8 MB 7.1 MB/s eta 0:00:00\n",
      "Downloading contourpy-1.3.0-cp312-cp312-win_amd64.whl (218 kB)\n",
      "Downloading cycler-0.12.1-py3-none-any.whl (8.3 kB)\n",
      "Downloading fonttools-4.54.1-cp312-cp312-win_amd64.whl (2.2 MB)\n",
      "   ---------------------------------------- 0.0/2.2 MB ? eta -:--:--\n",
      "   ----------------------- ---------------- 1.3/2.2 MB 7.4 MB/s eta 0:00:01\n",
      "   ---------------------------------------- 2.2/2.2 MB 6.9 MB/s eta 0:00:00\n",
      "Downloading kiwisolver-1.4.7-cp312-cp312-win_amd64.whl (55 kB)\n",
      "Downloading pillow-10.4.0-cp312-cp312-win_amd64.whl (2.6 MB)\n",
      "   ---------------------------------------- 0.0/2.6 MB ? eta -:--:--\n",
      "   ---------------- ----------------------- 1.0/2.6 MB 5.0 MB/s eta 0:00:01\n",
      "   ---------------------------- ----------- 1.8/2.6 MB 4.6 MB/s eta 0:00:01\n",
      "   ---------------------------------------- 2.6/2.6 MB 4.9 MB/s eta 0:00:00\n",
      "Downloading pyparsing-3.1.4-py3-none-any.whl (104 kB)\n",
      "Installing collected packages: pyparsing, pillow, kiwisolver, fonttools, cycler, contourpy, matplotlib\n",
      "Successfully installed contourpy-1.3.0 cycler-0.12.1 fonttools-4.54.1 kiwisolver-1.4.7 matplotlib-3.9.2 pillow-10.4.0 pyparsing-3.1.4\n"
     ]
    }
   ],
   "source": [
    "!pip install matplotlib"
   ]
  },
  {
   "cell_type": "code",
   "execution_count": null,
   "id": "b6a12dae-fd74-4b58-9d02-d06915b6a6c4",
   "metadata": {},
   "outputs": [],
   "source": []
  }
 ],
 "metadata": {
  "kernelspec": {
   "display_name": "Python 3 (ipykernel)",
   "language": "python",
   "name": "python3"
  },
  "language_info": {
   "codemirror_mode": {
    "name": "ipython",
    "version": 3
   },
   "file_extension": ".py",
   "mimetype": "text/x-python",
   "name": "python",
   "nbconvert_exporter": "python",
   "pygments_lexer": "ipython3",
   "version": "3.12.6"
  }
 },
 "nbformat": 4,
 "nbformat_minor": 5
}
